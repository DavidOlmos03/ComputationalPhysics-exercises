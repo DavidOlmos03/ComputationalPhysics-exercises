{
 "cells": [
  {
   "cell_type": "markdown",
   "id": "878c55e3",
   "metadata": {},
   "source": [
    "<h6>Prueba</h6>"
   ]
  },
  {
   "cell_type": "code",
   "execution_count": 1,
   "id": "5802da86",
   "metadata": {},
   "outputs": [
    {
     "data": {
      "text/html": [
       "<div id=\"glowscript\" class=\"glowscript\"></div>"
      ],
      "text/plain": [
       "<IPython.core.display.HTML object>"
      ]
     },
     "metadata": {},
     "output_type": "display_data"
    },
    {
     "data": {
      "application/javascript": [
       "if (typeof Jupyter !== \"undefined\") { window.__context = { glowscript_container: $(\"#glowscript\").removeAttr(\"id\")};}else{ element.textContent = ' ';}"
      ],
      "text/plain": [
       "<IPython.core.display.Javascript object>"
      ]
     },
     "metadata": {},
     "output_type": "display_data"
    }
   ],
   "source": [
    "from vpython import box, scene,color,vector\n",
    "\n",
    "# Crear una escena 3D\n",
    "scene.background = color.white"
   ]
  },
  {
   "cell_type": "code",
   "execution_count": 2,
   "id": "5e848869",
   "metadata": {},
   "outputs": [
    {
     "data": {
      "application/javascript": [
       "if (typeof Jupyter !== \"undefined\") {require.undef(\"nbextensions/vpython_libraries/glow.min\");}else{element.textContent = ' ';}"
      ],
      "text/plain": [
       "<IPython.core.display.Javascript object>"
      ]
     },
     "metadata": {},
     "output_type": "display_data"
    },
    {
     "data": {
      "application/javascript": [
       "if (typeof Jupyter !== \"undefined\") {require.undef(\"nbextensions/vpython_libraries/glowcomm\");}else{element.textContent = ' ';}"
      ],
      "text/plain": [
       "<IPython.core.display.Javascript object>"
      ]
     },
     "metadata": {},
     "output_type": "display_data"
    },
    {
     "data": {
      "application/javascript": [
       "if (typeof Jupyter !== \"undefined\") {require.undef(\"nbextensions/vpython_libraries/jquery-ui.custom.min\");}else{element.textContent = ' ';}"
      ],
      "text/plain": [
       "<IPython.core.display.Javascript object>"
      ]
     },
     "metadata": {},
     "output_type": "display_data"
    },
    {
     "data": {
      "application/javascript": [
       "if (typeof Jupyter !== \"undefined\") {require([\"nbextensions/vpython_libraries/glow.min\"], function(){console.log(\"GLOW LOADED\");});}else{element.textContent = ' ';}"
      ],
      "text/plain": [
       "<IPython.core.display.Javascript object>"
      ]
     },
     "metadata": {},
     "output_type": "display_data"
    },
    {
     "data": {
      "application/javascript": [
       "if (typeof Jupyter !== \"undefined\") {require([\"nbextensions/vpython_libraries/glowcomm\"], function(){console.log(\"GLOWCOMM LOADED\");});}else{element.textContent = ' ';}"
      ],
      "text/plain": [
       "<IPython.core.display.Javascript object>"
      ]
     },
     "metadata": {},
     "output_type": "display_data"
    },
    {
     "data": {
      "application/javascript": [
       "if (typeof Jupyter !== \"undefined\") {require([\"nbextensions/vpython_libraries/jquery-ui.custom.min\"], function(){console.log(\"JQUERY LOADED\");});}else{element.textContent = ' ';}"
      ],
      "text/plain": [
       "<IPython.core.display.Javascript object>"
      ]
     },
     "metadata": {},
     "output_type": "display_data"
    }
   ],
   "source": [
    "# Crear un objeto box\n",
    "b = box(pos=vector(0, 0, 0), size=vector(1, 1, 1), color=color.blue)\n",
    "\n"
   ]
  },
  {
   "cell_type": "code",
   "execution_count": 3,
   "id": "f6d8efd7",
   "metadata": {},
   "outputs": [],
   "source": [
    "# Función para manejar el movimiento del objeto con el ratón\n",
    "def move_box(event):\n",
    "    b.pos = scene.mouse.project(normal=(0, 0, 1))\n"
   ]
  },
  {
   "cell_type": "code",
   "execution_count": 4,
   "id": "43d8060d",
   "metadata": {},
   "outputs": [
    {
     "name": "stderr",
     "output_type": "stream",
     "text": [
      "Task exception was never retrieved\n",
      "future: <Task finished name='Task-6' coro=<wsperiodic() done, defined at C:\\Users\\juand\\anaconda3\\Lib\\site-packages\\vpython\\with_notebook.py:161> exception=AttributeError(\"'tuple' object has no attribute 'hat'\")>\n",
      "Traceback (most recent call last):\n",
      "  File \"C:\\Users\\juand\\anaconda3\\Lib\\site-packages\\vpython\\with_notebook.py\", line 171, in wsperiodic\n",
      "    baseObj.glow.handle_msg(msg)\n",
      "  File \"C:\\Users\\juand\\anaconda3\\Lib\\site-packages\\vpython\\vpython.py\", line 415, in handle_msg\n",
      "    cvs.handle_event(evt)\n",
      "  File \"C:\\Users\\juand\\anaconda3\\Lib\\site-packages\\vpython\\vpython.py\", line 3300, in handle_event\n",
      "    fct( evt1 )\n",
      "  File \"C:\\Users\\juand\\AppData\\Local\\Temp\\ipykernel_13508\\3885363557.py\", line 3, in move_box\n",
      "    b.pos = scene.mouse.project(normal=(0, 0, 1))\n",
      "            ^^^^^^^^^^^^^^^^^^^^^^^^^^^^^^^^^^^^^\n",
      "  File \"C:\\Users\\juand\\anaconda3\\Lib\\site-packages\\vpython\\vpython.py\", line 2790, in project\n",
      "    normal = norm(args['normal'])\n",
      "             ^^^^^^^^^^^^^^^^^^^^\n",
      "  File \"C:\\Users\\juand\\anaconda3\\Lib\\site-packages\\vpython\\vector.py\", line 275, in norm\n",
      "    return A.hat\n",
      "           ^^^^^\n",
      "AttributeError: 'tuple' object has no attribute 'hat'\n"
     ]
    }
   ],
   "source": [
    "# Adjuntar la función al evento de arrastrar el ratón\n",
    "scene.bind('mousemove', move_box)"
   ]
  },
  {
   "cell_type": "code",
   "execution_count": null,
   "id": "a5912954",
   "metadata": {},
   "outputs": [],
   "source": []
  }
 ],
 "metadata": {
  "kernelspec": {
   "display_name": "Python 3 (ipykernel)",
   "language": "python",
   "name": "python3"
  },
  "language_info": {
   "codemirror_mode": {
    "name": "ipython",
    "version": 3
   },
   "file_extension": ".py",
   "mimetype": "text/x-python",
   "name": "python",
   "nbconvert_exporter": "python",
   "pygments_lexer": "ipython3",
   "version": "3.11.5"
  }
 },
 "nbformat": 4,
 "nbformat_minor": 5
}
